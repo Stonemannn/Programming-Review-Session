{
 "cells": [
  {
   "cell_type": "markdown",
   "metadata": {},
   "source": [
    "# Git Collaboration Practice Session\n",
    "\n",
    "Welcome to the Git collaboration practice session! In this notebook, you'll be working on a few Python tasks while practicing Git collaboration techniques. Your team will practice branching, pushing, pulling, and conflict resolution.\n",
    "\n",
    "The tasks are designed to mimic a real-world collaborative development scenario. Let's dive in!"
   ]
  },
  {
   "cell_type": "markdown",
   "metadata": {},
   "source": [
    "## Task 1: Basic Python Programming\n",
    "One member implements the circumference of a circle, the second member implements the area of a circle. We'll look at the third function later in the review session.\n"
   ]
  },
  {
   "cell_type": "code",
   "execution_count": 1,
   "metadata": {},
   "outputs": [],
   "source": [
    "def circumference(radius):\n",
    "    # TODO: Complete function\n",
    "    a=1+2+3\n",
    "    pass a"
   ]
  },
  {
   "cell_type": "code",
   "execution_count": null,
   "metadata": {},
   "outputs": [],
   "source": [
    "def area(radius):\n",
    "    # TODO: Complete function\n",
    "    pass"
   ]
  },
  {
   "cell_type": "code",
   "execution_count": null,
   "metadata": {},
   "outputs": [],
   "source": [
    "def factorial(radius):\n",
    "    # TODO: Complete function\n",
    "    pass"
   ]
  },
  {
   "cell_type": "markdown",
   "metadata": {},
   "source": [
    "Once you've implemented your function, make sure to commit and push your changes to your branch."
   ]
  },
  {
   "cell_type": "markdown",
   "metadata": {},
   "source": [
    "## Task 2: Collaboration"
   ]
  },
  {
   "cell_type": "markdown",
   "metadata": {},
   "source": [
    "In this task, the members (A and B) will each implement the `factorial` function, resulting in a conflict. Remember, each member should work on their own branch for this task. Your goal is to:\n",
    "\n",
    "1. Introduce the conflict by having both members push their changes.\n",
    "2. Try to merge the changes and observe the conflict.\n",
    "3. Resolve the conflict.\n",
    "4. Document the steps taken to resolve the conflict.\n",
    "\n",
    "This task will help you understand how to deal with merge conflicts, a common scenario in collaborative projects."
   ]
  }
 ],
 "metadata": {
  "kernelspec": {
   "display_name": "Python 3 (ipykernel)",
   "language": "python",
   "name": "python3"
  },
  "language_info": {
   "codemirror_mode": {
    "name": "ipython",
    "version": 3
   },
   "file_extension": ".py",
   "mimetype": "text/x-python",
   "name": "python",
   "nbconvert_exporter": "python",
   "pygments_lexer": "ipython3",
   "version": "3.10.9"
  }
 },
 "nbformat": 4,
 "nbformat_minor": 2
}
